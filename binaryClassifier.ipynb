{
 "cells": [
  {
   "cell_type": "code",
   "execution_count": 59,
   "metadata": {},
   "outputs": [
    {
     "name": "stdout",
     "output_type": "stream",
     "text": [
      "ticker              2000-06-13\n",
      "ISRG US Equity           2.007\n",
      "ISRG US Equity.1           2.0\n",
      "ISRG US Equity.2           NaN\n",
      "ISRG US Equity.3           NaN\n",
      "ISRG US Equity.4           NaN\n",
      "Predictions               DOWN\n",
      "OneHotPred                   0\n",
      "Name: 3, dtype: object\n"
     ]
    }
   ],
   "source": [
    "import pandas as pd\n",
    "from os import listdir\n",
    "from os.path import isfile, join\n",
    "files = ['./data/' + f for f in listdir('./data/') if isfile(join('./data/', f))]\n",
    "\n",
    "trainData = []\n",
    "valData = []\n",
    "testData = []\n",
    "\n",
    "for i, fileName in enumerate(files):\n",
    "    if i < 120:\n",
    "        trainData.append(fileName)\n",
    "    elif i < 160:\n",
    "        valData.append(fileName)\n",
    "    else:\n",
    "        testData.append(fileName)\n",
    "\n",
    "\n",
    "df = pd.read_csv(trainData[1])\n",
    "\n",
    "print(df.iloc[3])"
   ]
  },
  {
   "cell_type": "code",
   "execution_count": 60,
   "metadata": {},
   "outputs": [],
   "source": [
    "import torch\n",
    "from torch.utils.data import Dataset\n",
    "from torchvision.transforms import ToTensor\n",
    "import matplotlib.pyplot as plt\n",
    "\n",
    "class CustomImageDataset(Dataset):\n",
    "    def __init__(self, files, transform=None, target=None):\n",
    "        self.lengths = []\n",
    "        self.data = []\n",
    "\n",
    "        for f in files:\n",
    "            df = pd.read_csv(f)\n",
    "            self.lengths.append(len(df) - 2)\n",
    "            self.data.append(df)\n",
    "\n",
    "        self.transforms = transform\n",
    "        self.target = target\n",
    "\n",
    "    def __len__(self):\n",
    "        return sum(self.lengths)\n",
    "\n",
    "    def __getitem__(self, idx):\n",
    "        \n",
    "        i = 0\n",
    "        while idx > self.lengths[i]:\n",
    "            idx -= self.lengths\n",
    "            i += 1\n",
    "        \n",
    "        rowsBack = 5\n",
    "        quiz = torch.zeros(25)\n",
    "        label = torch.zeros(1)\n",
    "        quizI = 0\n",
    "\n",
    "        while rowsBack > 0:\n",
    "\n",
    "            rowsBack -= 1\n",
    "            if i < 0:\n",
    "                i -= 1\n",
    "                idx = self.lengths[i]\n",
    "            \n",
    "            row = self.data[i].iloc[idx + 2]\n",
    "            for p in range(5):\n",
    "                quiz[quizI] = row[p + 1]\n",
    "                quizI += 1\n",
    "\n",
    "            if rowsBack == 5:\n",
    "                label = row[7]\n",
    "\n",
    "        quiz = quiz.div(quiz.norm())\n",
    "\n",
    "        return quiz, label\n",
    "        \n",
    "\n",
    "trainDataset = CustomImageDataset(trainData)\n",
    "valDataset = CustomImageDataset(valData)\n",
    "testDataset = CustomImageDataset(testData)\n",
    "        \n",
    "        \n"
   ]
  },
  {
   "cell_type": "code",
   "execution_count": 49,
   "metadata": {},
   "outputs": [
    {
     "name": "stdout",
     "output_type": "stream",
     "text": [
      "tensor([3.0000e+02, 2.3775e-01, 6.5520e-01, 3.3088e-01, 4.5856e-01, 4.5968e-01,\n",
      "        4.0901e-01, 8.6381e-01, 6.0047e-01, 1.8722e-01, 3.2739e-01, 8.3864e-01,\n",
      "        6.7383e-01, 5.5910e-01, 9.4522e-01, 9.5783e-02, 7.2780e-01, 3.3566e-01,\n",
      "        5.3283e-01, 6.0120e-01, 1.1613e-02, 3.2479e-01, 8.9843e-01, 3.1312e-01,\n",
      "        2.7657e-01])\n"
     ]
    },
    {
     "data": {
      "text/plain": [
       "tensor([9.9996e-01, 7.9248e-04, 2.1839e-03, 1.1029e-03, 1.5285e-03, 1.5322e-03,\n",
       "        1.3633e-03, 2.8793e-03, 2.0015e-03, 6.2403e-04, 1.0912e-03, 2.7953e-03,\n",
       "        2.2460e-03, 1.8636e-03, 3.1506e-03, 3.1926e-04, 2.4259e-03, 1.1188e-03,\n",
       "        1.7760e-03, 2.0039e-03, 3.8709e-05, 1.0826e-03, 2.9947e-03, 1.0437e-03,\n",
       "        9.2187e-04])"
      ]
     },
     "execution_count": 49,
     "metadata": {},
     "output_type": "execute_result"
    }
   ],
   "source": [
    "import torch\n",
    "k = torch.rand(25)\n",
    "k[0] = torch.tensor(300)\n",
    "print(k)\n",
    "k.div(k.norm())"
   ]
  },
  {
   "cell_type": "code",
   "execution_count": null,
   "metadata": {},
   "outputs": [],
   "source": []
  }
 ],
 "metadata": {
  "kernelspec": {
   "display_name": "Python 3.10.2 64-bit",
   "language": "python",
   "name": "python3"
  },
  "language_info": {
   "codemirror_mode": {
    "name": "ipython",
    "version": 3
   },
   "file_extension": ".py",
   "mimetype": "text/x-python",
   "name": "python",
   "nbconvert_exporter": "python",
   "pygments_lexer": "ipython3",
   "version": "3.10.2"
  },
  "orig_nbformat": 4,
  "vscode": {
   "interpreter": {
    "hash": "aee8b7b246df8f9039afb4144a1f6fd8d2ca17a180786b69acc140d282b71a49"
   }
  }
 },
 "nbformat": 4,
 "nbformat_minor": 2
}
